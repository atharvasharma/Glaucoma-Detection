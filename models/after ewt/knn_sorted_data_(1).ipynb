{
  "nbformat": 4,
  "nbformat_minor": 0,
  "metadata": {
    "colab": {
      "name": "knn_sorted_data (1).ipynb",
      "provenance": [],
      "collapsed_sections": [],
      "toc_visible": true
    },
    "kernelspec": {
      "name": "python3",
      "display_name": "Python 3"
    }
  },
  "cells": [
    {
      "cell_type": "code",
      "metadata": {
        "id": "_r8nOIzSwoRG",
        "colab": {
          "base_uri": "https://localhost:8080/"
        },
        "outputId": "a359023f-2102-47fa-85e9-c5c6f4fde0f7"
      },
      "source": [
        "''\n",
        "from google.colab import drive\n",
        "drive.mount('/content/drive')"
      ],
      "execution_count": null,
      "outputs": [
        {
          "output_type": "stream",
          "text": [
            "Drive already mounted at /content/drive; to attempt to forcibly remount, call drive.mount(\"/content/drive\", force_remount=True).\n"
          ],
          "name": "stdout"
        }
      ]
    },
    {
      "cell_type": "markdown",
      "metadata": {
        "id": "vqDFfrWMLC3k"
      },
      "source": [
        "# For cup images"
      ]
    },
    {
      "cell_type": "code",
      "metadata": {
        "id": "q43GlQTrwzCz",
        "colab": {
          "base_uri": "https://localhost:8080/"
        },
        "outputId": "7c1c0376-4f2e-4772-d837-d9ce39903d06"
      },
      "source": [
        "import numpy as np\n",
        "from keras.preprocessing import image\n",
        "import cv2 as cv\n",
        "import matplotlib.pyplot as plt\n",
        "from pathlib import Path\n",
        "from sklearn.model_selection import GridSearchCV, train_test_split\n",
        "from skimage.io import imread\n",
        "print(\"Files imported successfully\")\n",
        "import pandas as pd\n",
        "import warnings\n",
        "warnings.filterwarnings('ignore')\n",
        "pd.set_option('display.max_columns', 30*30 + 1)"
      ],
      "execution_count": null,
      "outputs": [
        {
          "output_type": "stream",
          "text": [
            "Files imported successfully\n"
          ],
          "name": "stdout"
        }
      ]
    },
    {
      "cell_type": "code",
      "metadata": {
        "id": "tHpaS_4pyPDf",
        "colab": {
          "base_uri": "https://localhost:8080/"
        },
        "outputId": "0a260ba4-db92-4124-ab68-dea7ad1a1a85"
      },
      "source": [
        "\n",
        "def load_image_files(container_path, dimension=(64, 64)):\n",
        "    image_dir = Path(container_path)\n",
        "    folders = [directory for directory in image_dir.iterdir() if directory.is_dir()]\n",
        "    categories = [fo.name for fo in folders]\n",
        "\n",
        "    descr = \"A image classification dataset\"\n",
        "    images = []\n",
        "    flat_data = []\n",
        "    target = []\n",
        "    count = 0\n",
        "    train_img = []\n",
        "    for i, direc in enumerate(folders):\n",
        "        for file in direc.iterdir():\n",
        "            count += 1\n",
        "            img = imread(file)\n",
        "            #img = cv.cvtColor(img, cv.COLOR_BGR2GRAY)\n",
        "            img_pred = cv.resize(img, (50, 50), interpolation=cv.INTER_AREA)\n",
        "            img_pred = image.img_to_array(img_pred)\n",
        "            img_pred = img_pred / 255\n",
        "            train_img.append(img_pred)\n",
        "\n",
        "    X = np.array(train_img)\n",
        "\n",
        "    return X\n",
        "\n",
        "X = []\n",
        "X = load_image_files(\"/content/drive/My Drive/btp/ewt applied/ewt applied\")\n",
        "print(X.shape)\n",
        "\n",
        "y0 = np.zeros(74)\n",
        "#2000 is the number of Cats in X\n",
        "y1 = np.ones(67)\n",
        "#2134 is the number of Dogs in X\n",
        "y = []\n",
        "y = np.concatenate((y0,y1), axis=0)\n",
        "X_train, X_test, y_train, y_test = train_test_split(X, y, random_state=42, test_size=0.2)\n",
        "X_val, X_test, y_val, y_test = train_test_split(X_test, y_test, random_state=42, test_size=0.5)\n",
        "print(\"X_train: \"+str(X_train.shape))\n",
        "print(\"X_test: \"+str(X_test.shape))\n",
        "print(\"X_val: \"+str(X_val.shape))\n",
        "print(\"y_train: \"+str(y_train.shape))\n",
        "print(\"y_test: \"+str(y_test.shape))\n",
        "print(\"y_val: \"+str(y_val.shape))\n",
        "\n",
        "from builtins import range\n",
        "from builtins import object\n",
        "\n",
        "num_training = X_train.shape[0]\n",
        "mask = list(range(num_training))\n",
        "X_train = X_train[mask]\n",
        "y_train = y_train[mask]\n",
        "\n",
        "num_test = X_test.shape[0]\n",
        "mask = list(range(num_test))\n",
        "X_test = X_test[mask]\n",
        "y_test = y_test[mask]\n",
        "\n",
        "num_val = X_val.shape[0]\n",
        "mask = list(range(num_val))\n",
        "X_val = X_val[mask]\n",
        "y_val = y_val[mask]\n",
        "\n",
        "# Reshape the image data into rows\n",
        "X_train = np.reshape(X_train, (X_train.shape[0], -1))\n",
        "X_test = np.reshape(X_test, (X_test.shape[0], -1))\n",
        "X_val = np.reshape(X_val, (X_val.shape[0], -1))\n",
        "\n",
        "print(\"X_train: \"+str(X_train.shape))\n",
        "print(\"X_test: \"+str(X_test.shape))\n",
        "print(\"X_val: \"+str(X_val.shape))\n",
        "print(\"y_train: \"+str(y_train.shape))\n",
        "print(\"y_test: \"+str(y_test.shape))\n",
        "print(\"y_val: \"+str(y_val.shape))"
      ],
      "execution_count": null,
      "outputs": [
        {
          "output_type": "stream",
          "text": [
            "(141, 50, 50, 1)\n",
            "X_train: (112, 50, 50, 1)\n",
            "X_test: (15, 50, 50, 1)\n",
            "X_val: (14, 50, 50, 1)\n",
            "y_train: (112,)\n",
            "y_test: (15,)\n",
            "y_val: (14,)\n",
            "X_train: (112, 2500)\n",
            "X_test: (15, 2500)\n",
            "X_val: (14, 2500)\n",
            "y_train: (112,)\n",
            "y_test: (15,)\n",
            "y_val: (14,)\n"
          ],
          "name": "stdout"
        }
      ]
    },
    {
      "cell_type": "code",
      "metadata": {
        "id": "IjGznFgbywGN"
      },
      "source": [
        "class KNearestNeighbor(object):\n",
        "    \"\"\" a kNN classifier with L2 distance \"\"\"\n",
        "\n",
        "    def __init__(self):\n",
        "        pass\n",
        "\n",
        "    def predict_label(self, dists, k=1):\n",
        "        num_test = dists.shape[0]\n",
        "        y_pred = np.zeros(num_test)\n",
        "        for i in range(num_test):\n",
        "            closest_y = []\n",
        "            closest_y = self.y_train[np.argsort(dists[i])][0:k]\n",
        "            y_pred[i] = np.bincount(closest_y).argmax()\n",
        "        return y_pred\n",
        "\n",
        "    def train(self, X, y):\n",
        "        \"\"\"\n",
        "        Train the classifier. For k-nearest neighbors this is just\n",
        "        memorizing the training data.\n",
        "\n",
        "        Inputs:\n",
        "        - X: A numpy array of shape (num_train, D) containing the training data\n",
        "          consisting of num_train samples each of dimension D.\n",
        "        - y: A numpy array of shape (N,) containing the training labels, where\n",
        "             y[i] is the label for X[i].\n",
        "        \"\"\"\n",
        "        self.X_train = X\n",
        "        self.y_train = y\n",
        "\n",
        "    def predict(self, X, k=1):\n",
        "        \"\"\"\n",
        "        Predict labels for test data using this classifier.\n",
        "\n",
        "        Inputs:\n",
        "        - X: A numpy array of shape (num_test, D) containing test data consisting\n",
        "             of num_test samples each of dimension D.\n",
        "        - k: The number of nearest neighbors that vote for the predicted labels.\n",
        "        - num_loops: Determines which implementation to use to compute distances\n",
        "          between training points and testing points.\n",
        "\n",
        "        Returns:\n",
        "        - y: A numpy array of shape (num_test,) containing predicted labels for the\n",
        "          test data, where y[i] is the predicted label for the test point X[i].\n",
        "        \"\"\"\n",
        "        dists = self.compute_distances_no_loops(X)\n",
        "\n",
        "        return self.predict_labels(dists, k=k)\n",
        "\n",
        "    def compute_distances_no_loops(self, X):\n",
        "        \"\"\"\n",
        "        Compute the distance between each test point in X and each training point\n",
        "        in self.X_train using no explicit loops.\n",
        "\n",
        "        Input / Output: Same as compute_distances_two_loops\n",
        "        \"\"\"\n",
        "        num_test = X.shape[0]\n",
        "        num_train = self.X_train.shape[0]\n",
        "        dists = np.zeros((num_test, num_train))\n",
        "        #########################################################################\n",
        "        dists = np.sqrt((X ** 2).sum(axis=1, keepdims=1) + (self.X_train ** 2).sum(axis=1) - 2 * X.dot(self.X_train.T))\n",
        "\n",
        "        return dists\n",
        "\n",
        "    def predict_labels(self, dists, k=1):\n",
        "        \"\"\"\n",
        "        Given a matrix of distances between test points and training points,\n",
        "        predict a label for each test point.\n",
        "\n",
        "        Inputs:\n",
        "        - dists: A numpy array of shape (num_test, num_train) where dists[i, j]\n",
        "          gives the distance betwen the ith test point and the jth training point.\n",
        "\n",
        "        Returns:\n",
        "        - y: A numpy array of shape (num_test,) containing predicted labels for the\n",
        "          test data, where y[i] is the predicted label for the test point X[i].\n",
        "        \"\"\"\n",
        "        num_test = dists.shape[0]\n",
        "        y_pred = np.zeros(num_test)\n",
        "        for i in range(num_test):\n",
        "            # A list of length k storing the labels of the k nearest neighbors to\n",
        "            # the ith test point.\n",
        "            closest_y = []\n",
        "            closest_y = self.y_train[np.argsort(dists[i])][0:k]\n",
        "            closest_y = closest_y.astype(int)\n",
        "            y_pred[i] = np.bincount(closest_y).argmax()\n",
        "        return y_pred"
      ],
      "execution_count": null,
      "outputs": []
    },
    {
      "cell_type": "code",
      "metadata": {
        "id": "wJygZduX3iWA",
        "colab": {
          "base_uri": "https://localhost:8080/"
        },
        "outputId": "044e8445-9d4b-4604-e6ca-20ee1cfe6267"
      },
      "source": [
        "print(\"Val Accuracy for k=1\")\n",
        "classifier = KNearestNeighbor()\n",
        "classifier.train(X_train, y_train)\n",
        "dists = classifier.compute_distances_no_loops(X_val)\n",
        "y_val_pred = classifier.predict_labels(dists, k=1)\n",
        "num_correct = np.sum(y_val_pred == y_val)\n",
        "accuracy = float(num_correct) / num_val\n",
        "print('Got %d / %d correct => accuracy: %f' % (num_correct, num_val, accuracy))"
      ],
      "execution_count": null,
      "outputs": [
        {
          "output_type": "stream",
          "text": [
            "Val Accuracy for k=1\n",
            "Got 10 / 14 correct => accuracy: 0.714286\n"
          ],
          "name": "stdout"
        }
      ]
    },
    {
      "cell_type": "code",
      "metadata": {
        "id": "Cnp52Nlq3pBl",
        "colab": {
          "base_uri": "https://localhost:8080/",
          "height": 298
        },
        "outputId": "36deb314-e53c-47eb-b809-b9f802269c0c"
      },
      "source": [
        "print(\"Using SKLEARN\")\n",
        "lix = []\n",
        "liy = []\n",
        "index=0\n",
        "acc=0\n",
        "from sklearn.neighbors import KNeighborsClassifier\n",
        "for k in range(1, 100):\n",
        "    neigh = KNeighborsClassifier(n_neighbors=k)\n",
        "    neigh.fit(X_train, y_train)\n",
        "    liy.append(neigh.score(X_val, y_val))\n",
        "    if liy[k-1]>acc:\n",
        "        acc=liy[k-1]\n",
        "        index=k-1\n",
        "    lix.append(k)\n",
        "\n",
        "plt.plot(lix, liy)\n",
        "plt.show()\n",
        "print(\"max acc at k=\"+str(index+1)+\" acc of \"+str(acc))"
      ],
      "execution_count": null,
      "outputs": [
        {
          "output_type": "stream",
          "text": [
            "Using SKLEARN\n"
          ],
          "name": "stdout"
        },
        {
          "output_type": "display_data",
          "data": {
            "image/png": "[encoded data removed]",
            "text/plain": [
              "<Figure size 432x288 with 1 Axes>"
            ]
          },
          "metadata": {
            "tags": [],
            "needs_background": "light"
          }
        },
        {
          "output_type": "stream",
          "text": [
            "max acc at k=5 acc of 0.8571428571428571\n"
          ],
          "name": "stdout"
        }
      ]
    }
  ]
}